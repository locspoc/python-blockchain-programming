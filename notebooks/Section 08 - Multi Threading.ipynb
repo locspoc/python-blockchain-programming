{
 "cells": [
  {
   "cell_type": "markdown",
   "id": "combined-supplier",
   "metadata": {},
   "source": [
    "# Section 08 - Multi Threading"
   ]
  },
  {
   "cell_type": "markdown",
   "id": "appropriate-object",
   "metadata": {},
   "source": [
    "## 58. Basic Threading"
   ]
  },
  {
   "cell_type": "code",
   "execution_count": 1,
   "id": "robust-strike",
   "metadata": {},
   "outputs": [],
   "source": [
    "def printA():\n",
    "    print(\"A\")"
   ]
  },
  {
   "cell_type": "code",
   "execution_count": 2,
   "id": "encouraging-librarian",
   "metadata": {},
   "outputs": [
    {
     "name": "stdout",
     "output_type": "stream",
     "text": [
      "A\n"
     ]
    }
   ],
   "source": [
    "printA()"
   ]
  },
  {
   "cell_type": "code",
   "execution_count": 3,
   "id": "proof-discrimination",
   "metadata": {},
   "outputs": [
    {
     "data": {
      "text/plain": [
       "<function __main__.printA()>"
      ]
     },
     "execution_count": 3,
     "metadata": {},
     "output_type": "execute_result"
    }
   ],
   "source": [
    "printA"
   ]
  },
  {
   "cell_type": "code",
   "execution_count": 4,
   "id": "collected-wrist",
   "metadata": {},
   "outputs": [
    {
     "data": {
      "text/plain": [
       "789"
      ]
     },
     "execution_count": 4,
     "metadata": {},
     "output_type": "execute_result"
    }
   ],
   "source": [
    "(789)"
   ]
  },
  {
   "cell_type": "code",
   "execution_count": 5,
   "id": "biblical-confirmation",
   "metadata": {},
   "outputs": [
    {
     "data": {
      "text/plain": [
       "int"
      ]
     },
     "execution_count": 5,
     "metadata": {},
     "output_type": "execute_result"
    }
   ],
   "source": [
    "type((789))"
   ]
  },
  {
   "cell_type": "code",
   "execution_count": 6,
   "id": "enabling-harvey",
   "metadata": {},
   "outputs": [
    {
     "data": {
      "text/plain": [
       "tuple"
      ]
     },
     "execution_count": 6,
     "metadata": {},
     "output_type": "execute_result"
    }
   ],
   "source": [
    "type((789,))"
   ]
  },
  {
   "cell_type": "code",
   "execution_count": null,
   "id": "welcome-method",
   "metadata": {},
   "outputs": [],
   "source": []
  }
 ],
 "metadata": {
  "kernelspec": {
   "display_name": "Python 3",
   "language": "python",
   "name": "python3"
  },
  "language_info": {
   "codemirror_mode": {
    "name": "ipython",
    "version": 3
   },
   "file_extension": ".py",
   "mimetype": "text/x-python",
   "name": "python",
   "nbconvert_exporter": "python",
   "pygments_lexer": "ipython3",
   "version": "3.7.6"
  }
 },
 "nbformat": 4,
 "nbformat_minor": 5
}
